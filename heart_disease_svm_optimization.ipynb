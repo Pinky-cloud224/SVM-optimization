{
 "cells": [
  {
   "cell_type": "markdown",
   "id": "efd311ba",
   "metadata": {},
   "source": [
    "## Optimization of Support Vector Machine (SVM)"
   ]
  },
  {
   "cell_type": "markdown",
   "id": "dfaef2d9",
   "metadata": {},
   "source": [
    "Support vector machine (SVM) is one of the most popular classifer which deals with the classification and regression problem with strong generalization capabilities. Optimization of SVM can be done by tuning of SVM parameters."
   ]
  },
  {
   "cell_type": "markdown",
   "id": "a85f1a16",
   "metadata": {},
   "source": [
    "Here, the used dataset is heart disease dataset collected from Kaggle (https://www.kaggle.com/johnsmith88/heart-disease-dataset)."
   ]
  },
  {
   "cell_type": "markdown",
   "id": "0d9992a7",
   "metadata": {},
   "source": [
    "#### Importing libraries"
   ]
  },
  {
   "cell_type": "code",
   "execution_count": 144,
   "id": "492b3e07",
   "metadata": {},
   "outputs": [],
   "source": [
    "import numpy as np    #for the analysis of provided data\n",
    "import pandas as pd \n",
    "import matplotlib.pyplot as plt # python library useful for plotting graphs\n",
    "import seaborn as sns # to exploring and understanding of data\n",
    "\n",
    "%matplotlib inline\n",
    "\n",
    "import os #operating system\n",
    "\n",
    "from sklearn.metrics import confusion_matrix #to evaluate the performance of a classification model by the performance metrics calculation \n",
    "from sklearn import metrics, preprocessing # preprocessing to convert the provided raw data into clean data\n",
    "#metrics to measure classification model performance\n",
    "from sklearn.metrics import classification_report #to show the result of classification model\n",
    "\n",
    "from sklearn.svm import SVC # importing support vector classifier (SVC)\n",
    "from sklearn.model_selection import cross_val_score #to estimate the skill of machine learning model\n",
    "from sklearn.model_selection import GridSearchCV #to fit the model on the training set\n",
    "\n",
    "from sklearn.pipeline import make_pipeline # for constructing pipelines\n",
    "from sklearn.feature_selection import SelectKBest, f_regression # SelectKBest to select the features according to the best K score\n",
    "#f_regression to rank the features on the same order\n",
    "\n"
   ]
  },
  {
   "cell_type": "markdown",
   "id": "73ae0f8c",
   "metadata": {},
   "source": [
    "#### Importing dataset"
   ]
  },
  {
   "cell_type": "code",
   "execution_count": 145,
   "id": "7bb3061c",
   "metadata": {},
   "outputs": [],
   "source": [
    "data_heart = pd.read_csv(\"heart_disease.csv\")"
   ]
  },
  {
   "cell_type": "code",
   "execution_count": 146,
   "id": "5b3f64da",
   "metadata": {},
   "outputs": [
    {
     "data": {
      "text/plain": [
       "pandas.core.frame.DataFrame"
      ]
     },
     "execution_count": 146,
     "metadata": {},
     "output_type": "execute_result"
    }
   ],
   "source": [
    "type(data_heart)"
   ]
  },
  {
   "cell_type": "markdown",
   "id": "8552df94",
   "metadata": {},
   "source": [
    "##### Finding out the samples and features number"
   ]
  },
  {
   "cell_type": "code",
   "execution_count": 147,
   "id": "f4445f3d",
   "metadata": {},
   "outputs": [
    {
     "data": {
      "text/plain": [
       "(303, 14)"
      ]
     },
     "execution_count": 147,
     "metadata": {},
     "output_type": "execute_result"
    }
   ],
   "source": [
    "data_heart.shape"
   ]
  },
  {
   "cell_type": "markdown",
   "id": "574052e3",
   "metadata": {},
   "source": [
    "The provided dataset contains 303 samples and 14 features"
   ]
  },
  {
   "cell_type": "code",
   "execution_count": 148,
   "id": "e0c1f18e",
   "metadata": {},
   "outputs": [
    {
     "data": {
      "text/html": [
       "<div>\n",
       "<style scoped>\n",
       "    .dataframe tbody tr th:only-of-type {\n",
       "        vertical-align: middle;\n",
       "    }\n",
       "\n",
       "    .dataframe tbody tr th {\n",
       "        vertical-align: top;\n",
       "    }\n",
       "\n",
       "    .dataframe thead th {\n",
       "        text-align: right;\n",
       "    }\n",
       "</style>\n",
       "<table border=\"1\" class=\"dataframe\">\n",
       "  <thead>\n",
       "    <tr style=\"text-align: right;\">\n",
       "      <th></th>\n",
       "      <th>age</th>\n",
       "      <th>sex</th>\n",
       "      <th>cp</th>\n",
       "      <th>trestbps</th>\n",
       "      <th>chol</th>\n",
       "      <th>fbs</th>\n",
       "      <th>restecg</th>\n",
       "      <th>thalach</th>\n",
       "      <th>exang</th>\n",
       "      <th>oldpeak</th>\n",
       "      <th>slope</th>\n",
       "      <th>ca</th>\n",
       "      <th>thal</th>\n",
       "      <th>target</th>\n",
       "    </tr>\n",
       "  </thead>\n",
       "  <tbody>\n",
       "    <tr>\n",
       "      <th>0</th>\n",
       "      <td>63</td>\n",
       "      <td>1</td>\n",
       "      <td>3</td>\n",
       "      <td>145</td>\n",
       "      <td>233</td>\n",
       "      <td>1</td>\n",
       "      <td>0</td>\n",
       "      <td>150</td>\n",
       "      <td>0</td>\n",
       "      <td>2.3</td>\n",
       "      <td>0</td>\n",
       "      <td>0</td>\n",
       "      <td>1</td>\n",
       "      <td>1</td>\n",
       "    </tr>\n",
       "    <tr>\n",
       "      <th>1</th>\n",
       "      <td>37</td>\n",
       "      <td>1</td>\n",
       "      <td>2</td>\n",
       "      <td>130</td>\n",
       "      <td>250</td>\n",
       "      <td>0</td>\n",
       "      <td>1</td>\n",
       "      <td>187</td>\n",
       "      <td>0</td>\n",
       "      <td>3.5</td>\n",
       "      <td>0</td>\n",
       "      <td>0</td>\n",
       "      <td>2</td>\n",
       "      <td>1</td>\n",
       "    </tr>\n",
       "    <tr>\n",
       "      <th>2</th>\n",
       "      <td>41</td>\n",
       "      <td>0</td>\n",
       "      <td>1</td>\n",
       "      <td>130</td>\n",
       "      <td>204</td>\n",
       "      <td>0</td>\n",
       "      <td>0</td>\n",
       "      <td>172</td>\n",
       "      <td>0</td>\n",
       "      <td>1.4</td>\n",
       "      <td>2</td>\n",
       "      <td>0</td>\n",
       "      <td>2</td>\n",
       "      <td>1</td>\n",
       "    </tr>\n",
       "    <tr>\n",
       "      <th>3</th>\n",
       "      <td>56</td>\n",
       "      <td>1</td>\n",
       "      <td>1</td>\n",
       "      <td>120</td>\n",
       "      <td>236</td>\n",
       "      <td>0</td>\n",
       "      <td>1</td>\n",
       "      <td>178</td>\n",
       "      <td>0</td>\n",
       "      <td>0.8</td>\n",
       "      <td>2</td>\n",
       "      <td>0</td>\n",
       "      <td>2</td>\n",
       "      <td>1</td>\n",
       "    </tr>\n",
       "    <tr>\n",
       "      <th>4</th>\n",
       "      <td>57</td>\n",
       "      <td>0</td>\n",
       "      <td>0</td>\n",
       "      <td>120</td>\n",
       "      <td>354</td>\n",
       "      <td>0</td>\n",
       "      <td>1</td>\n",
       "      <td>163</td>\n",
       "      <td>1</td>\n",
       "      <td>0.6</td>\n",
       "      <td>2</td>\n",
       "      <td>0</td>\n",
       "      <td>2</td>\n",
       "      <td>1</td>\n",
       "    </tr>\n",
       "  </tbody>\n",
       "</table>\n",
       "</div>"
      ],
      "text/plain": [
       "   age  sex  cp  trestbps  chol  fbs  restecg  thalach  exang  oldpeak  slope  \\\n",
       "0   63    1   3       145   233    1        0      150      0      2.3      0   \n",
       "1   37    1   2       130   250    0        1      187      0      3.5      0   \n",
       "2   41    0   1       130   204    0        0      172      0      1.4      2   \n",
       "3   56    1   1       120   236    0        1      178      0      0.8      2   \n",
       "4   57    0   0       120   354    0        1      163      1      0.6      2   \n",
       "\n",
       "   ca  thal  target  \n",
       "0   0     1       1  \n",
       "1   0     2       1  \n",
       "2   0     2       1  \n",
       "3   0     2       1  \n",
       "4   0     2       1  "
      ]
     },
     "execution_count": 148,
     "metadata": {},
     "output_type": "execute_result"
    }
   ],
   "source": [
    "data_heart.head()"
   ]
  },
  {
   "cell_type": "markdown",
   "id": "0c59b4b3",
   "metadata": {},
   "source": [
    "##### Finding out the statistical description¶"
   ]
  },
  {
   "cell_type": "code",
   "execution_count": 149,
   "id": "9d40575b",
   "metadata": {},
   "outputs": [
    {
     "data": {
      "text/html": [
       "<div>\n",
       "<style scoped>\n",
       "    .dataframe tbody tr th:only-of-type {\n",
       "        vertical-align: middle;\n",
       "    }\n",
       "\n",
       "    .dataframe tbody tr th {\n",
       "        vertical-align: top;\n",
       "    }\n",
       "\n",
       "    .dataframe thead th {\n",
       "        text-align: right;\n",
       "    }\n",
       "</style>\n",
       "<table border=\"1\" class=\"dataframe\">\n",
       "  <thead>\n",
       "    <tr style=\"text-align: right;\">\n",
       "      <th></th>\n",
       "      <th>age</th>\n",
       "      <th>sex</th>\n",
       "      <th>cp</th>\n",
       "      <th>trestbps</th>\n",
       "      <th>chol</th>\n",
       "      <th>fbs</th>\n",
       "      <th>restecg</th>\n",
       "      <th>thalach</th>\n",
       "      <th>exang</th>\n",
       "      <th>oldpeak</th>\n",
       "      <th>slope</th>\n",
       "      <th>ca</th>\n",
       "      <th>thal</th>\n",
       "      <th>target</th>\n",
       "    </tr>\n",
       "  </thead>\n",
       "  <tbody>\n",
       "    <tr>\n",
       "      <th>count</th>\n",
       "      <td>303.000000</td>\n",
       "      <td>303.000000</td>\n",
       "      <td>303.000000</td>\n",
       "      <td>303.000000</td>\n",
       "      <td>303.000000</td>\n",
       "      <td>303.000000</td>\n",
       "      <td>303.000000</td>\n",
       "      <td>303.000000</td>\n",
       "      <td>303.000000</td>\n",
       "      <td>303.000000</td>\n",
       "      <td>303.000000</td>\n",
       "      <td>303.000000</td>\n",
       "      <td>303.000000</td>\n",
       "      <td>303.000000</td>\n",
       "    </tr>\n",
       "    <tr>\n",
       "      <th>mean</th>\n",
       "      <td>54.366337</td>\n",
       "      <td>0.683168</td>\n",
       "      <td>0.966997</td>\n",
       "      <td>131.623762</td>\n",
       "      <td>246.264026</td>\n",
       "      <td>0.148515</td>\n",
       "      <td>0.528053</td>\n",
       "      <td>149.646865</td>\n",
       "      <td>0.326733</td>\n",
       "      <td>1.039604</td>\n",
       "      <td>1.399340</td>\n",
       "      <td>0.729373</td>\n",
       "      <td>2.313531</td>\n",
       "      <td>0.544554</td>\n",
       "    </tr>\n",
       "    <tr>\n",
       "      <th>std</th>\n",
       "      <td>9.082101</td>\n",
       "      <td>0.466011</td>\n",
       "      <td>1.032052</td>\n",
       "      <td>17.538143</td>\n",
       "      <td>51.830751</td>\n",
       "      <td>0.356198</td>\n",
       "      <td>0.525860</td>\n",
       "      <td>22.905161</td>\n",
       "      <td>0.469794</td>\n",
       "      <td>1.161075</td>\n",
       "      <td>0.616226</td>\n",
       "      <td>1.022606</td>\n",
       "      <td>0.612277</td>\n",
       "      <td>0.498835</td>\n",
       "    </tr>\n",
       "    <tr>\n",
       "      <th>min</th>\n",
       "      <td>29.000000</td>\n",
       "      <td>0.000000</td>\n",
       "      <td>0.000000</td>\n",
       "      <td>94.000000</td>\n",
       "      <td>126.000000</td>\n",
       "      <td>0.000000</td>\n",
       "      <td>0.000000</td>\n",
       "      <td>71.000000</td>\n",
       "      <td>0.000000</td>\n",
       "      <td>0.000000</td>\n",
       "      <td>0.000000</td>\n",
       "      <td>0.000000</td>\n",
       "      <td>0.000000</td>\n",
       "      <td>0.000000</td>\n",
       "    </tr>\n",
       "    <tr>\n",
       "      <th>25%</th>\n",
       "      <td>47.500000</td>\n",
       "      <td>0.000000</td>\n",
       "      <td>0.000000</td>\n",
       "      <td>120.000000</td>\n",
       "      <td>211.000000</td>\n",
       "      <td>0.000000</td>\n",
       "      <td>0.000000</td>\n",
       "      <td>133.500000</td>\n",
       "      <td>0.000000</td>\n",
       "      <td>0.000000</td>\n",
       "      <td>1.000000</td>\n",
       "      <td>0.000000</td>\n",
       "      <td>2.000000</td>\n",
       "      <td>0.000000</td>\n",
       "    </tr>\n",
       "    <tr>\n",
       "      <th>50%</th>\n",
       "      <td>55.000000</td>\n",
       "      <td>1.000000</td>\n",
       "      <td>1.000000</td>\n",
       "      <td>130.000000</td>\n",
       "      <td>240.000000</td>\n",
       "      <td>0.000000</td>\n",
       "      <td>1.000000</td>\n",
       "      <td>153.000000</td>\n",
       "      <td>0.000000</td>\n",
       "      <td>0.800000</td>\n",
       "      <td>1.000000</td>\n",
       "      <td>0.000000</td>\n",
       "      <td>2.000000</td>\n",
       "      <td>1.000000</td>\n",
       "    </tr>\n",
       "    <tr>\n",
       "      <th>75%</th>\n",
       "      <td>61.000000</td>\n",
       "      <td>1.000000</td>\n",
       "      <td>2.000000</td>\n",
       "      <td>140.000000</td>\n",
       "      <td>274.500000</td>\n",
       "      <td>0.000000</td>\n",
       "      <td>1.000000</td>\n",
       "      <td>166.000000</td>\n",
       "      <td>1.000000</td>\n",
       "      <td>1.600000</td>\n",
       "      <td>2.000000</td>\n",
       "      <td>1.000000</td>\n",
       "      <td>3.000000</td>\n",
       "      <td>1.000000</td>\n",
       "    </tr>\n",
       "    <tr>\n",
       "      <th>max</th>\n",
       "      <td>77.000000</td>\n",
       "      <td>1.000000</td>\n",
       "      <td>3.000000</td>\n",
       "      <td>200.000000</td>\n",
       "      <td>564.000000</td>\n",
       "      <td>1.000000</td>\n",
       "      <td>2.000000</td>\n",
       "      <td>202.000000</td>\n",
       "      <td>1.000000</td>\n",
       "      <td>6.200000</td>\n",
       "      <td>2.000000</td>\n",
       "      <td>4.000000</td>\n",
       "      <td>3.000000</td>\n",
       "      <td>1.000000</td>\n",
       "    </tr>\n",
       "  </tbody>\n",
       "</table>\n",
       "</div>"
      ],
      "text/plain": [
       "              age         sex          cp    trestbps        chol         fbs  \\\n",
       "count  303.000000  303.000000  303.000000  303.000000  303.000000  303.000000   \n",
       "mean    54.366337    0.683168    0.966997  131.623762  246.264026    0.148515   \n",
       "std      9.082101    0.466011    1.032052   17.538143   51.830751    0.356198   \n",
       "min     29.000000    0.000000    0.000000   94.000000  126.000000    0.000000   \n",
       "25%     47.500000    0.000000    0.000000  120.000000  211.000000    0.000000   \n",
       "50%     55.000000    1.000000    1.000000  130.000000  240.000000    0.000000   \n",
       "75%     61.000000    1.000000    2.000000  140.000000  274.500000    0.000000   \n",
       "max     77.000000    1.000000    3.000000  200.000000  564.000000    1.000000   \n",
       "\n",
       "          restecg     thalach       exang     oldpeak       slope          ca  \\\n",
       "count  303.000000  303.000000  303.000000  303.000000  303.000000  303.000000   \n",
       "mean     0.528053  149.646865    0.326733    1.039604    1.399340    0.729373   \n",
       "std      0.525860   22.905161    0.469794    1.161075    0.616226    1.022606   \n",
       "min      0.000000   71.000000    0.000000    0.000000    0.000000    0.000000   \n",
       "25%      0.000000  133.500000    0.000000    0.000000    1.000000    0.000000   \n",
       "50%      1.000000  153.000000    0.000000    0.800000    1.000000    0.000000   \n",
       "75%      1.000000  166.000000    1.000000    1.600000    2.000000    1.000000   \n",
       "max      2.000000  202.000000    1.000000    6.200000    2.000000    4.000000   \n",
       "\n",
       "             thal      target  \n",
       "count  303.000000  303.000000  \n",
       "mean     2.313531    0.544554  \n",
       "std      0.612277    0.498835  \n",
       "min      0.000000    0.000000  \n",
       "25%      2.000000    0.000000  \n",
       "50%      2.000000    1.000000  \n",
       "75%      3.000000    1.000000  \n",
       "max      3.000000    1.000000  "
      ]
     },
     "execution_count": 149,
     "metadata": {},
     "output_type": "execute_result"
    }
   ],
   "source": [
    "data_heart.describe()"
   ]
  },
  {
   "cell_type": "markdown",
   "id": "19988163",
   "metadata": {},
   "source": [
    "##### Checking out datatype information"
   ]
  },
  {
   "cell_type": "code",
   "execution_count": 150,
   "id": "d277e4ee",
   "metadata": {},
   "outputs": [
    {
     "name": "stdout",
     "output_type": "stream",
     "text": [
      "<class 'pandas.core.frame.DataFrame'>\n",
      "RangeIndex: 303 entries, 0 to 302\n",
      "Data columns (total 14 columns):\n",
      " #   Column    Non-Null Count  Dtype  \n",
      "---  ------    --------------  -----  \n",
      " 0   age       303 non-null    int64  \n",
      " 1   sex       303 non-null    int64  \n",
      " 2   cp        303 non-null    int64  \n",
      " 3   trestbps  303 non-null    int64  \n",
      " 4   chol      303 non-null    int64  \n",
      " 5   fbs       303 non-null    int64  \n",
      " 6   restecg   303 non-null    int64  \n",
      " 7   thalach   303 non-null    int64  \n",
      " 8   exang     303 non-null    int64  \n",
      " 9   oldpeak   303 non-null    float64\n",
      " 10  slope     303 non-null    int64  \n",
      " 11  ca        303 non-null    int64  \n",
      " 12  thal      303 non-null    int64  \n",
      " 13  target    303 non-null    int64  \n",
      "dtypes: float64(1), int64(13)\n",
      "memory usage: 33.3 KB\n"
     ]
    }
   ],
   "source": [
    "data_heart.info()"
   ]
  },
  {
   "cell_type": "markdown",
   "id": "8ab7af59",
   "metadata": {},
   "source": [
    "##### Checking for the missing values"
   ]
  },
  {
   "cell_type": "code",
   "execution_count": 151,
   "id": "5abb655f",
   "metadata": {},
   "outputs": [
    {
     "data": {
      "text/plain": [
       "age         0\n",
       "sex         0\n",
       "cp          0\n",
       "trestbps    0\n",
       "chol        0\n",
       "fbs         0\n",
       "restecg     0\n",
       "thalach     0\n",
       "exang       0\n",
       "oldpeak     0\n",
       "slope       0\n",
       "ca          0\n",
       "thal        0\n",
       "target      0\n",
       "dtype: int64"
      ]
     },
     "execution_count": 151,
     "metadata": {},
     "output_type": "execute_result"
    }
   ],
   "source": [
    "data_heart.isnull().sum()"
   ]
  },
  {
   "cell_type": "markdown",
   "id": "026e4d26",
   "metadata": {},
   "source": [
    "There is no missing value in this dataset"
   ]
  },
  {
   "cell_type": "markdown",
   "id": "28f3a1e2",
   "metadata": {},
   "source": [
    "##### Data type target"
   ]
  },
  {
   "cell_type": "code",
   "execution_count": 152,
   "id": "c36058f4",
   "metadata": {},
   "outputs": [
    {
     "data": {
      "text/plain": [
       "array([1, 0])"
      ]
     },
     "execution_count": 152,
     "metadata": {},
     "output_type": "execute_result"
    }
   ],
   "source": [
    "data_heart.target.unique()"
   ]
  },
  {
   "cell_type": "markdown",
   "id": "e9fdca9c",
   "metadata": {},
   "source": [
    "Here, 1= Patients with heart disease\n",
    "\n",
    "     0= Patients without heart disease "
   ]
  },
  {
   "cell_type": "markdown",
   "id": "033f4de3",
   "metadata": {},
   "source": [
    "##### Storing in X and y"
   ]
  },
  {
   "cell_type": "code",
   "execution_count": 39,
   "id": "02d353cd",
   "metadata": {},
   "outputs": [],
   "source": [
    "X,y=data_heart,data_heart.target\n",
    "X.drop('target',axis=1,inplace=True)\n"
   ]
  },
  {
   "cell_type": "code",
   "execution_count": 40,
   "id": "834e7cf8",
   "metadata": {},
   "outputs": [
    {
     "data": {
      "text/plain": [
       "(303, 13)"
      ]
     },
     "execution_count": 40,
     "metadata": {},
     "output_type": "execute_result"
    }
   ],
   "source": [
    "X.shape"
   ]
  },
  {
   "cell_type": "code",
   "execution_count": 41,
   "id": "a5921103",
   "metadata": {},
   "outputs": [
    {
     "data": {
      "text/plain": [
       "(303,)"
      ]
     },
     "execution_count": 41,
     "metadata": {},
     "output_type": "execute_result"
    }
   ],
   "source": [
    "y.shape"
   ]
  },
  {
   "cell_type": "markdown",
   "id": "48d5215e",
   "metadata": {},
   "source": [
    "##### Data Normalization"
   ]
  },
  {
   "cell_type": "markdown",
   "id": "57f3f2a1",
   "metadata": {},
   "source": [
    "Here, the Z-score (Zero mean unit variance) is implemented. The process is to centering the feature at mean 0 with a standard deviation of 1. Z-score normalization is highly impactful for SVM classifier."
   ]
  },
  {
   "cell_type": "code",
   "execution_count": 72,
   "id": "2c0ab3bf",
   "metadata": {},
   "outputs": [],
   "source": [
    "from sklearn.preprocessing import StandardScaler"
   ]
  },
  {
   "cell_type": "code",
   "execution_count": 73,
   "id": "e9010104",
   "metadata": {},
   "outputs": [],
   "source": [
    "sc = StandardScaler()\n",
    "X = sc.fit_transform(X)"
   ]
  },
  {
   "cell_type": "markdown",
   "id": "d095498a",
   "metadata": {},
   "source": [
    "##### Dimensionality reduction by principal component analysis (PCA)"
   ]
  },
  {
   "cell_type": "markdown",
   "id": "c88843ff",
   "metadata": {},
   "source": [
    "Among the dimensionality reduction algorithms Principal Component Analysis(PCA) is one of the most popular linear dimension reduction algorithm."
   ]
  },
  {
   "cell_type": "code",
   "execution_count": 74,
   "id": "1886612a",
   "metadata": {},
   "outputs": [],
   "source": [
    "from sklearn.decomposition import PCA\n",
    "# feature extraction\n",
    "pca = PCA(n_components=10) # extracting 10 features out of 13 features  \n",
    "fit = pca.fit(X)\n",
    "X_pca = pca.transform(X)"
   ]
  },
  {
   "cell_type": "markdown",
   "id": "03cdd678",
   "metadata": {},
   "source": [
    "##### Retrieving model accuracy: Spliting dataset into training and testing"
   ]
  },
  {
   "cell_type": "markdown",
   "id": "96829b71",
   "metadata": {},
   "source": [
    "The dataset has ben split into 80% training and 20% test set"
   ]
  },
  {
   "cell_type": "code",
   "execution_count": 98,
   "id": "030323ae",
   "metadata": {},
   "outputs": [],
   "source": [
    "from sklearn.model_selection import train_test_split\n",
    "X_train,X_test,y_train,y_test=train_test_split(X,y,random_state=5,test_size=0.4,shuffle=True)"
   ]
  },
  {
   "cell_type": "code",
   "execution_count": 99,
   "id": "0c7486c8",
   "metadata": {},
   "outputs": [
    {
     "name": "stdout",
     "output_type": "stream",
     "text": [
      "train_set_x shape: (181, 13)\n",
      "train_set_y shape: (181,)\n",
      "test_set_x shape: (122, 13)\n",
      "test_set_y shape: (122,)\n"
     ]
    }
   ],
   "source": [
    "print (\"train_set_x shape: \" + str(X_train.shape))\n",
    "print (\"train_set_y shape: \" + str(y_train.shape))\n",
    "print (\"test_set_x shape: \" + str(X_test.shape))\n",
    "print (\"test_set_y shape: \" + str(y_test.shape))"
   ]
  },
  {
   "cell_type": "markdown",
   "id": "6689a5f1",
   "metadata": {},
   "source": [
    "##### Creating SVM classifier\n",
    "Creation of SVM classifier and train it on the 80% of the dataset. "
   ]
  },
  {
   "cell_type": "code",
   "execution_count": 100,
   "id": "2a104298",
   "metadata": {},
   "outputs": [
    {
     "data": {
      "text/plain": [
       "SVC(probability=True)"
      ]
     },
     "execution_count": 100,
     "metadata": {},
     "output_type": "execute_result"
    }
   ],
   "source": [
    "clf_heart_disease = SVC(probability=True)\n",
    "clf_heart_disease.fit(X_train, y_train)"
   ]
  },
  {
   "cell_type": "markdown",
   "id": "3558774e",
   "metadata": {},
   "source": [
    "Analyzing the prediction accuracy on 20% test dataset"
   ]
  },
  {
   "cell_type": "code",
   "execution_count": 101,
   "id": "929eec7a",
   "metadata": {},
   "outputs": [
    {
     "name": "stdout",
     "output_type": "stream",
     "text": [
      "The classifier accuracy score is 0.81\n"
     ]
    }
   ],
   "source": [
    "classifier_score = clf_heart_disease.score(X_test, y_test)\n",
    "print ('The classifier accuracy score is {:03.2f}'.format(classifier_score))\n"
   ]
  },
  {
   "cell_type": "markdown",
   "id": "a8f512f7",
   "metadata": {},
   "source": [
    "Accessing cross validation score with k value of 10 and 3 fold cross validation"
   ]
  },
  {
   "cell_type": "code",
   "execution_count": 102,
   "id": "1b5e9efd",
   "metadata": {},
   "outputs": [],
   "source": [
    "clf2_heart_disease = make_pipeline(SelectKBest(f_regression, k=10),SVC(probability=True))\n",
    "scores = cross_val_score(clf2_heart_disease, X_pca, y, cv=3)"
   ]
  },
  {
   "cell_type": "markdown",
   "id": "13fb4867",
   "metadata": {},
   "source": [
    "Getting average of 10-fold cross-validation score using an SVC estimator."
   ]
  },
  {
   "cell_type": "code",
   "execution_count": 103,
   "id": "e101b9e0",
   "metadata": {},
   "outputs": [
    {
     "name": "stdout",
     "output_type": "stream",
     "text": [
      "The 10-fold cross-validation accuracy score for this classifier is 0.83\n"
     ]
    }
   ],
   "source": [
    "n_folds = 10\n",
    "cv_error = np.average(cross_val_score(SVC(), X_pca, y, cv=n_folds))\n",
    "print ('The {}-fold cross-validation accuracy score for this classifier is {:.2f}'.format(n_folds, cv_error))\n"
   ]
  },
  {
   "cell_type": "markdown",
   "id": "3562151c",
   "metadata": {},
   "source": [
    "##### Generation of Classification Report\n",
    "In order to access the quality of prediction"
   ]
  },
  {
   "cell_type": "code",
   "execution_count": 104,
   "id": "53b3eb6f",
   "metadata": {},
   "outputs": [
    {
     "name": "stdout",
     "output_type": "stream",
     "text": [
      "              precision    recall  f1-score   support\n",
      "\n",
      "           0       0.79      0.80      0.79        55\n",
      "           1       0.83      0.82      0.83        67\n",
      "\n",
      "    accuracy                           0.81       122\n",
      "   macro avg       0.81      0.81      0.81       122\n",
      "weighted avg       0.81      0.81      0.81       122\n",
      "\n"
     ]
    }
   ],
   "source": [
    "y_pred = clf_heart_disease.fit(X_train, y_train).predict(X_test)\n",
    "class_report = metrics.confusion_matrix(y_test, y_pred)\n",
    "\n",
    "print(classification_report(y_test, y_pred ))"
   ]
  },
  {
   "cell_type": "markdown",
   "id": "5d1b3150",
   "metadata": {},
   "source": [
    "##### The classifier accuracy is 0.81"
   ]
  },
  {
   "cell_type": "code",
   "execution_count": 105,
   "id": "2f513463",
   "metadata": {},
   "outputs": [
    {
     "data": {
      "image/png": "[encoded data removed]",
      "text/plain": [
       "<Figure size 360x360 with 1 Axes>"
      ]
     },
     "metadata": {
      "needs_background": "light"
     },
     "output_type": "display_data"
    }
   ],
   "source": [
    "fig, ax = plt.subplots(figsize=(5, 5))\n",
    "ax.matshow(class_report, cmap=plt.cm.Reds, alpha=0.5)\n",
    "for i in range(class_report.shape[1]):\n",
    "     for j in range(class_report.shape[0]):\n",
    "         ax.text(x=i, y=j,\n",
    "                s=class_report[j, i], \n",
    "                va='center', ha='center')\n",
    "plt.xlabel('Predicted Values', )\n",
    "plt.ylabel('Actual Values')\n",
    "plt.show()"
   ]
  },
  {
   "cell_type": "markdown",
   "id": "6e4712a3",
   "metadata": {},
   "source": [
    "##### Understanding the Confusion Matrix\n",
    "* The top left box indicates True Negative value (TN).\n",
    "\n",
    "* The top right box indicates False Negative value (FN). \n",
    "\n",
    "* The bottom left box indicates False Positive (FP) value.\n",
    "\n",
    "* The bottom right box indicates True Positive (TP) value..\n",
    "---------------------------------------------------------------------------------\n",
    "- 44 patients are predicted corrected without heart disease.\n",
    "\n",
    "- 11 patients are wrongly predicted without heart disease.\n",
    "\n",
    "- 12 patients are wrongly predicted with heart disease.\n",
    "\n",
    "- 55 patients are predicted correctly with heart disease.\n"
   ]
  },
  {
   "cell_type": "markdown",
   "id": "e53bddd6",
   "metadata": {},
   "source": [
    "##### Optimization of SVM"
   ]
  },
  {
   "cell_type": "markdown",
   "id": "80c5698b",
   "metadata": {},
   "source": [
    "###### For the optimization the following steps can be implied:\n",
    "\n",
    "- Tuning of hyperparameters (C and gamma).\n",
    "\n",
    "   - C hyperparameter is used to control error.\n",
    "               \n",
    "   - gamma hyperparameter control the curving of decision boundary.\n",
    "   \n",
    "               \n",
    "- Tuning the kernel type (SVM-linear, SVM-polynomial, SVM-RBF (Gaussian radial basis function), SVM- sigmoid).\n",
    "\n",
    "- Grid search parameter tuning."
   ]
  },
  {
   "cell_type": "markdown",
   "id": "800836f8",
   "metadata": {},
   "source": [
    "##### Training classifiers."
   ]
  },
  {
   "cell_type": "code",
   "execution_count": 115,
   "id": "dae53218",
   "metadata": {},
   "outputs": [
    {
     "data": {
      "text/plain": [
       "GridSearchCV(cv=8, estimator=SVC(),\n",
       "             param_grid={'C': array([1.00000000e-03, 1.77827941e-02, 3.16227766e-01, 5.62341325e+00,\n",
       "       1.00000000e+02]),\n",
       "                         'gamma': array([1.00000000e-03, 1.77827941e-02, 3.16227766e-01, 5.62341325e+00,\n",
       "       1.00000000e+02]),\n",
       "                         'kernel': ['linear', 'poly', 'rbf', 'sigmoid']})"
      ]
     },
     "execution_count": 115,
     "metadata": {},
     "output_type": "execute_result"
    }
   ],
   "source": [
    "kernel_values = [ 'linear' ,  'poly' ,  'rbf' ,  'sigmoid' ]\n",
    "param_grid = {'C': np.logspace(-3, 2, 5), 'gamma': np.logspace(-3, 2, 5),'kernel': kernel_values}\n",
    "\n",
    "grid = GridSearchCV(SVC(), param_grid=param_grid, cv=8) # 3 fold grid search cross validation\n",
    "grid.fit(X_train, y_train)"
   ]
  },
  {
   "cell_type": "code",
   "execution_count": 116,
   "id": "ce4806a0",
   "metadata": {},
   "outputs": [
    {
     "name": "stdout",
     "output_type": "stream",
     "text": [
      "The best parameters are {'C': 100.0, 'gamma': 0.01778279410038923, 'kernel': 'sigmoid'} with a score of 0.82\n"
     ]
    }
   ],
   "source": [
    "print(\"The best parameters are %s with a score of %0.2f\"\n",
    "      % (grid.best_params_, grid.best_score_))"
   ]
  },
  {
   "cell_type": "code",
   "execution_count": 117,
   "id": "9e2bddc4",
   "metadata": {},
   "outputs": [],
   "source": [
    "grid.best_estimator_.probability = True\n",
    "clf_heart_optimized = grid.best_estimator_"
   ]
  },
  {
   "cell_type": "markdown",
   "id": "6c9ac1ec",
   "metadata": {},
   "source": [
    "##### Generation of Classification report after Optimization"
   ]
  },
  {
   "cell_type": "code",
   "execution_count": 118,
   "id": "aff6e776",
   "metadata": {},
   "outputs": [
    {
     "name": "stdout",
     "output_type": "stream",
     "text": [
      "[[47  8]\n",
      " [10 57]]\n",
      "              precision    recall  f1-score   support\n",
      "\n",
      "           0       0.82      0.85      0.84        55\n",
      "           1       0.88      0.85      0.86        67\n",
      "\n",
      "    accuracy                           0.85       122\n",
      "   macro avg       0.85      0.85      0.85       122\n",
      "weighted avg       0.85      0.85      0.85       122\n",
      "\n"
     ]
    },
    {
     "data": {
      "image/png": "[encoded data removed]",
      "text/plain": [
       "<Figure size 360x360 with 1 Axes>"
      ]
     },
     "metadata": {
      "needs_background": "light"
     },
     "output_type": "display_data"
    }
   ],
   "source": [
    "y_pred = clf_heart_optimized.fit(X_train, y_train).predict(X_test)\n",
    "c_m_optimized= metrics.confusion_matrix(y_test, y_pred)\n",
    "print(c_m_optimized)\n",
    "print(classification_report(y_test, y_pred ))\n",
    "\n",
    "fig, ax = plt.subplots(figsize=(5, 5))\n",
    "ax.matshow(c_m_optimized, cmap=plt.cm.Reds, alpha=0.3)\n",
    "for i in range(c_m_optimized.shape[0]):\n",
    "     for j in range(c_m_optimized.shape[1]):\n",
    "         ax.text(x=j, y=i,\n",
    "                s=c_m_optimized[i, j], \n",
    "                va='center', ha='center')\n",
    "plt.xlabel('Predicted Values', )\n",
    "plt.ylabel('Actual Values')\n",
    "plt.show()"
   ]
  },
  {
   "cell_type": "markdown",
   "id": "257a0b56",
   "metadata": {},
   "source": [
    "##### Accuracy score after optimization is 0.85"
   ]
  },
  {
   "cell_type": "markdown",
   "id": "119c974c",
   "metadata": {},
   "source": [
    "##### Understanding confusion matrix after optimization\n",
    "\n",
    "- 47 patients are predicted corrected without heart disease.\n",
    "\n",
    "- 8 patients are wrongly predicted without heart disease.\n",
    "\n",
    "- 10 patients are wrongly predicted with heart disease.\n",
    "\n",
    "- 57 patients are predicted correctly with heart disease.\n"
   ]
  },
  {
   "cell_type": "markdown",
   "id": "f8991d32",
   "metadata": {},
   "source": [
    "##### Plotting Decision Boundaries of SVM with different kernels"
   ]
  },
  {
   "cell_type": "code",
   "execution_count": 132,
   "id": "3ed4c1ff",
   "metadata": {},
   "outputs": [],
   "source": [
    "import matplotlib.pyplot as plt\n",
    "%matplotlib inline\n",
    "from matplotlib.colors import ListedColormap\n",
    "from sklearn import svm, datasets\n",
    "\n",
    "def decision_plot(X_train, y_train, n_neighbors, weights):\n",
    "       h = .02  # step size in the mesh\n",
    "\n",
    "Xtrain = X_train[:, :2] #taking the first two features.\n",
    "\n",
    "# Creating color maps\n",
    "\n",
    "cmap_light = ListedColormap(['#7fc97f', '#386cb0', '#f0027f'])\n",
    "cmap_bold = ListedColormap(['#FF0000', '#00FF00', '#0000FF'])\n",
    "\n",
    "\n",
    "C = 3.0  # SVM regularization parameter\n",
    "\n",
    "svm = SVC(kernel='linear', random_state=0, gamma=0.1, C=C).fit(Xtrain, y_train)\n",
    "rbf_svc = SVC(kernel='rbf', gamma=0.8, C=C).fit(Xtrain, y_train)\n",
    "poly_svc = SVC(kernel='poly', degree=2, C=C).fit(Xtrain, y_train)"
   ]
  },
  {
   "cell_type": "code",
   "execution_count": 135,
   "id": "0c168422",
   "metadata": {},
   "outputs": [],
   "source": [
    "plt.rcParams['figure.figsize'] = (16, 10) \n",
    "plt.rcParams['axes.titlesize'] = 'large'\n",
    "    \n",
    "#creating a mesh to plot in\n",
    "x_min, x_max = Xtrain[:, 0].min() - 1, Xtrain[:, 0].max() + 1\n",
    "y_min, y_max = Xtrain[:, 1].min() - 1, Xtrain[:, 1].max() + 1\n",
    "xx, yy = np.meshgrid(np.arange(x_min, x_max, 0.1),\n",
    "                         np.arange(y_min, y_max, 0.1))\n",
    "\n",
    "# title for the plots\n",
    "titles = ['SVC with linear kernel',\n",
    "          'SVC with RBF kernel',\n",
    "          'SVC with polynomial (degree 2) kernel']"
   ]
  },
  {
   "cell_type": "code",
   "execution_count": 136,
   "id": "8bee8e95",
   "metadata": {},
   "outputs": [
    {
     "data": {
      "image/png": "[encoded data removed]",
      "text/plain": [
       "<Figure size 1152x720 with 3 Axes>"
      ]
     },
     "metadata": {},
     "output_type": "display_data"
    }
   ],
   "source": [
    "for i, clf in enumerate((svm, rbf_svc, poly_svc)):\n",
    "    plt.subplot(2, 2, i + 1)\n",
    "    plt.subplots_adjust(wspace=0.4, hspace=0.4)\n",
    "\n",
    "    Z = clf.predict(np.c_[xx.ravel(), yy.ravel()])\n",
    "\n",
    "    # Puting the result into a color plot\n",
    "    Z = Z.reshape(xx.shape)\n",
    "    plt.contourf(xx, yy, Z, cmap=plt.cm.coolwarm, alpha=0.8)\n",
    "\n",
    "    # Ploting the training points\n",
    "    plt.scatter(Xtrain[:, 0], Xtrain[:, 1], c=y_train, cmap=plt.cm.coolwarm)\n",
    "    plt.xlabel('radius_mean')\n",
    "    plt.ylabel('texture_mean')\n",
    "    plt.xlim(xx.min(), xx.max())\n",
    "    plt.ylim(yy.min(), yy.max())\n",
    "    plt.xticks(())\n",
    "    plt.yticks(())\n",
    "    plt.title(titles[i])\n",
    "\n",
    "plt.show()"
   ]
  },
  {
   "cell_type": "code",
   "execution_count": null,
   "id": "74cfd881",
   "metadata": {},
   "outputs": [],
   "source": []
  },
  {
   "cell_type": "code",
   "execution_count": null,
   "id": "db8afd72",
   "metadata": {},
   "outputs": [],
   "source": []
  }
 ],
 "metadata": {
  "kernelspec": {
   "display_name": "Python 3 (ipykernel)",
   "language": "python",
   "name": "python3"
  },
  "language_info": {
   "codemirror_mode": {
    "name": "ipython",
    "version": 3
   },
   "file_extension": ".py",
   "mimetype": "text/x-python",
   "name": "python",
   "nbconvert_exporter": "python",
   "pygments_lexer": "ipython3",
   "version": "3.8.10"
  }
 },
 "nbformat": 4,
 "nbformat_minor": 5
}
